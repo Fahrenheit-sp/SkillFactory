{
 "cells": [
  {
   "cell_type": "code",
   "execution_count": null,
   "metadata": {},
   "outputs": [],
   "source": [
    "import numpy as np\n",
    "\n",
    "def score_game(algorithm):\n",
    "    '''Запускаем игру 1000 раз, чтобы узнать, как быстро игра угадывает число'''\n",
    "    range_start = 1\n",
    "    range_end = 101\n",
    "    attempts = []\n",
    "    np.random.seed(1)  # фиксируем RANDOM SEED, чтобы ваш эксперимент был воспроизводим!\n",
    "    random_array = np.random.randint(range_start,range_end, size=(1000))\n",
    "    for number in random_array:\n",
    "        attempts.append(algorithm(number, range_start, range_end))\n",
    "    score = int(np.mean(attempts))\n",
    "    print(f\"Ваш алгоритм угадывает число в среднем за {score} попыток\")\n",
    "    return(score)\n",
    "\n",
    "def binary_search(number, range_start, range_end):\n",
    "    attempts = 1\n",
    "    predict = int(abs(range_end - range_start) / 2) #устанавливаем предположение в середину радиуса\n",
    "    #переменные для сохранения радиуса поиска. изначально число больше начала радиуса и меньше конца радиуса\n",
    "    greater_than = range_start-1\n",
    "    less_than = range_end\n",
    "    while number != predict:\n",
    "        attempts += 1\n",
    "        if number > predict:\n",
    "            greater_than = predict #устанавливаем новое нижнее число радиуса поиска\n",
    "            predict += int((less_than - greater_than) / 2)  #устанавливаем предположение в середину нового радиуса\n",
    "        elif number < predict:\n",
    "            less_than = predict #устанавливаем новое верхнее число радиуса поиска\n",
    "            predict -= int((less_than - greater_than) / 2)\n",
    "    return(attempts)\n",
    "    \n",
    "# Проверяем\n",
    "score_game(binary_search)"
   ]
  }
 ],
 "metadata": {
  "kernelspec": {
   "display_name": "Python 3",
   "language": "python",
   "name": "python3"
  },
  "language_info": {
   "codemirror_mode": {
    "name": "ipython",
    "version": 3
   },
   "file_extension": ".py",
   "mimetype": "text/x-python",
   "name": "python",
   "nbconvert_exporter": "python",
   "pygments_lexer": "ipython3",
   "version": "3.7.6"
  }
 },
 "nbformat": 4,
 "nbformat_minor": 4
}
