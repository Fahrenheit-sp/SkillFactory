{
 "cells": [
  {
   "cell_type": "code",
   "execution_count": 95,
   "metadata": {},
   "outputs": [
    {
     "name": "stdout",
     "output_type": "stream",
     "text": [
      "<class 'pandas.core.frame.DataFrame'>\n",
      "RangeIndex: 118 entries, 0 to 117\n",
      "Data columns (total 6 columns):\n",
      " #   Column            Non-Null Count  Dtype  \n",
      "---  ------            --------------  -----  \n",
      " 0   flight_id         118 non-null    int64  \n",
      " 1   arrival_airport   118 non-null    object \n",
      " 2   model             118 non-null    object \n",
      " 3   duration_in_mins  118 non-null    int64  \n",
      " 4   places_taken      118 non-null    int64  \n",
      " 5   amount            118 non-null    float64\n",
      "dtypes: float64(1), int64(3), object(2)\n",
      "memory usage: 5.7+ KB\n"
     ]
    }
   ],
   "source": [
    "import pandas as pd\n",
    "import matplotlib.pyplot as plt\n",
    "import seaborn as sns\n",
    "import numpy as np\n",
    "\n",
    "pd.set_option('display.max_rows', 50) # показывать больше строк\n",
    "pd.set_option('display.max_columns', 50) # показывать больше колонок\n",
    "\n",
    "data = pd.read_csv('flights.csv')\n",
    "\n",
    "# просмотрим базовую информацию о датасете\n",
    "data.info()"
   ]
  },
  {
   "cell_type": "markdown",
   "metadata": {},
   "source": [
    "## Вывод:\n",
    "#### В датасете 2 строковых столбца, 1 столбцов типа float, 3 столбца типа int\n",
    "#### В датасете содержится 118 строк (записей)"
   ]
  },
  {
   "cell_type": "markdown",
   "metadata": {},
   "source": [
    "## Вспомогательные функции"
   ]
  },
  {
   "cell_type": "code",
   "execution_count": 96,
   "metadata": {},
   "outputs": [],
   "source": [
    "\n",
    "def values_inside_iqr_for(series):\n",
    "    median = series.median()\n",
    "    print('Медиана ' + series.name + ' = ' + str(median))\n",
    "    top_quantile = series.quantile(0.75)\n",
    "    bottom_quantile = series.quantile(0.25)\n",
    "    iqr = top_quantile - bottom_quantile\n",
    "    print('IQR ' + series.name + ' = ' + str(iqr))\n",
    "    lower_bound = bottom_quantile - (1.5 * iqr)\n",
    "    upper_bound = top_quantile + (1.5 * iqr)\n",
    "    print('Нижняя граница выброса ' + series.name + ' = ' + str(lower_bound))\n",
    "    print('Верхняя граница выброса ' + series.name + ' = ' + str(upper_bound))\n",
    "    return series.between(lower_bound, upper_bound)\n",
    "    \n",
    "def display_normalized_values_for(series):\n",
    "    print(data[series.name].value_counts(dropna=False, normalize=True).head(10))"
   ]
  },
  {
   "cell_type": "markdown",
   "metadata": {},
   "source": [
    "## Разберем основные столбцы"
   ]
  },
  {
   "cell_type": "markdown",
   "metadata": {},
   "source": [
    "### Аэропорты прибытия (arrival_airport)"
   ]
  },
  {
   "cell_type": "code",
   "execution_count": 97,
   "metadata": {},
   "outputs": [
    {
     "name": "stdout",
     "output_type": "stream",
     "text": [
      "EGO    59\n",
      "SVO    59\n",
      "Name: arrival_airport, dtype: int64\n",
      "count     118\n",
      "unique      2\n",
      "top       EGO\n",
      "freq       59\n",
      "Name: arrival_airport, dtype: object\n"
     ]
    }
   ],
   "source": [
    "print(data.arrival_airport.value_counts(dropna=False))\n",
    "print(data.arrival_airport.describe())"
   ]
  },
  {
   "cell_type": "markdown",
   "metadata": {},
   "source": [
    "### Вывод:\n",
    "#### Представлены 2 направления: EGO (Белгород) и SVO (Шереметьево). Отсутсвующих значений нет"
   ]
  },
  {
   "cell_type": "markdown",
   "metadata": {},
   "source": [
    " "
   ]
  },
  {
   "cell_type": "markdown",
   "metadata": {},
   "source": [
    "### Модели самолетов (model)"
   ]
  },
  {
   "cell_type": "code",
   "execution_count": 98,
   "metadata": {},
   "outputs": [
    {
     "name": "stdout",
     "output_type": "stream",
     "text": [
      "Sukhoi Superjet-100    59\n",
      "Boeing 737-300         59\n",
      "Name: model, dtype: int64\n",
      "count                     118\n",
      "unique                      2\n",
      "top       Sukhoi Superjet-100\n",
      "freq                       59\n",
      "Name: model, dtype: object\n"
     ]
    }
   ],
   "source": [
    "print(data.model.value_counts(dropna=False))\n",
    "print(data.model.describe())"
   ]
  },
  {
   "cell_type": "markdown",
   "metadata": {},
   "source": [
    "### Вывод:\n",
    "#### Всего представлены две модели самолетов: Sukhoi Superjet-100 и Boeing 737-300. Отсутсвующих значений нет"
   ]
  },
  {
   "cell_type": "markdown",
   "metadata": {},
   "source": [
    " "
   ]
  },
  {
   "cell_type": "markdown",
   "metadata": {},
   "source": [
    "### Длительность каждого рейса (duration_in_mins)"
   ]
  },
  {
   "cell_type": "code",
   "execution_count": 99,
   "metadata": {},
   "outputs": [
    {
     "name": "stdout",
     "output_type": "stream",
     "text": [
      "50     34\n",
      "100    27\n",
      "99     17\n",
      "51     15\n",
      "49     10\n",
      "101     8\n",
      "98      4\n",
      "102     2\n",
      "103     1\n",
      "Name: duration_in_mins, dtype: int64\n",
      "count    118.000000\n",
      "mean      74.957627\n",
      "std       24.992783\n",
      "min       49.000000\n",
      "25%       50.000000\n",
      "50%       74.500000\n",
      "75%      100.000000\n",
      "max      103.000000\n",
      "Name: duration_in_mins, dtype: float64\n"
     ]
    },
    {
     "data": {
      "image/png": "[encoded data removed]",
      "text/plain": [
       "<Figure size 432x288 with 1 Axes>"
      ]
     },
     "metadata": {
      "needs_background": "light"
     },
     "output_type": "display_data"
    }
   ],
   "source": [
    "print(data.duration_in_mins.value_counts())\n",
    "sns.boxplot(x='arrival_airport', y='duration_in_mins', data=data)\n",
    "print(data.duration_in_mins.describe())\n"
   ]
  },
  {
   "cell_type": "markdown",
   "metadata": {},
   "source": [
    "### Вывод:\n",
    "#### Видим что в среднем полет до аэропорта SVO занимает от 98 до 103 минут, до аэропорта EGO от 49-51 минуту. Выбросов или пропущенных значений нет."
   ]
  },
  {
   "cell_type": "markdown",
   "metadata": {},
   "source": [
    " "
   ]
  },
  {
   "cell_type": "markdown",
   "metadata": {},
   "source": [
    "### Количество пассажиров на рейсе (places_taken)"
   ]
  },
  {
   "cell_type": "code",
   "execution_count": 100,
   "metadata": {},
   "outputs": [
    {
     "name": "stdout",
     "output_type": "stream",
     "text": [
      "97     0.152542\n",
      "96     0.084746\n",
      "87     0.042373\n",
      "110    0.033898\n",
      "95     0.033898\n",
      "106    0.033898\n",
      "115    0.033898\n",
      "109    0.033898\n",
      "94     0.025424\n",
      "79     0.025424\n",
      "Name: places_taken, dtype: float64\n",
      "count    118.000000\n",
      "mean     101.652542\n",
      "std       14.295643\n",
      "min       64.000000\n",
      "25%       95.000000\n",
      "50%       97.000000\n",
      "75%      111.750000\n",
      "max      130.000000\n",
      "Name: places_taken, dtype: float64\n"
     ]
    },
    {
     "data": {
      "image/png": "[encoded data removed]",
      "text/plain": [
       "<Figure size 432x288 with 1 Axes>"
      ]
     },
     "metadata": {
      "needs_background": "light"
     },
     "output_type": "display_data"
    }
   ],
   "source": [
    "display_normalized_values_for(data.places_taken)\n",
    "data.places_taken.hist()\n",
    "print(data.places_taken.describe())"
   ]
  },
  {
   "cell_type": "markdown",
   "metadata": {},
   "source": [
    "### Вывод:\n",
    "#### Видим нормальное распределение пассажиров на рейсах. Выбросов нет (учитывая различную пассажировместимость моделей самолетов). Минимальное количество пассажиров на рейсе - 64, максимальное - 130. Отсутсвующих значений нет"
   ]
  },
  {
   "cell_type": "markdown",
   "metadata": {},
   "source": [
    " "
   ]
  },
  {
   "cell_type": "markdown",
   "metadata": {},
   "source": [
    "## Добавим внешние данные"
   ]
  },
  {
   "cell_type": "markdown",
   "metadata": {},
   "source": [
    "### Количество мест в самолетах на рейсе:"
   ]
  },
  {
   "cell_type": "code",
   "execution_count": 101,
   "metadata": {},
   "outputs": [],
   "source": [
    "# данные из Google о модели самолета\n",
    "model_seats_count = {'Sukhoi Superjet-100': 98, \n",
    "                     'Boeing 737-300': 149}\n",
    "\n",
    "if 'seats_in_plane' not in data.columns:\n",
    "    seats_in_plane = data.model.apply(lambda x: model_seats_count[x])\n",
    "    data.insert(4, 'seats_in_plane', seats_in_plane)\n",
    "    \n",
    "    #так же добавим количество пустых мест на рейсе\n",
    "    free_seats = data.seats_in_plane - data.places_taken\n",
    "    data.insert(6, 'free_seats', free_seats)"
   ]
  },
  {
   "cell_type": "markdown",
   "metadata": {},
   "source": [
    "### Количество потребляемого самолетом топлива и его стоимость:"
   ]
  },
  {
   "cell_type": "code",
   "execution_count": 102,
   "metadata": {},
   "outputs": [],
   "source": [
    "# данные из Wikipedia о модели самолета\n",
    "model_fuel_consumption = {'Sukhoi Superjet-100': 1700,\n",
    "                          'Boeing 737-300': 2400}\n",
    "\n",
    "if 'fuel_consumption' not in data.columns:\n",
    "    hour_fuel_consumption = data.model.apply(lambda x: model_fuel_consumption[x])\n",
    "\n",
    "    # рассчитаем количество потребляемого топлива за рейс\n",
    "    flight_fuel_consumption = (data.duration_in_mins / 60) * hour_fuel_consumption\n",
    "    data.insert(3, 'fuel_consumption', flight_fuel_consumption)\n",
    "    \n",
    "    # рассчитаем стоимость топлива на рейс. данные о стоимости взяты с \n",
    "    # https://favt.gov.ru/dejatelnost-ajeroporty-i-ajerodromy-ceny-na-aviagsm/\n",
    "    # Видим что для Анапы стоимость составляет 41 754 рубля за тонну. (без НДС, но я не силен в экономике РФ, поэтому оставим так)\n",
    "    # Умножим стоимость на 1.2, так как самолеты явно заполняют с запасом + погрешности физических свойств топлива\n",
    "    # в зависимости от температуры, а так же разный расход в зависимости от условий полета\n",
    "    fuel_price = (data.fuel_consumption * 41754 / 1000) * 1.2\n",
    "    data.insert(4, 'fuel_price', fuel_price)"
   ]
  },
  {
   "cell_type": "markdown",
   "metadata": {},
   "source": [
    "### Рассчитаем прибыль на основании стоимости топлива (с учетом доп затрат) и стоимости всех купленных билетов на рейс"
   ]
  },
  {
   "cell_type": "code",
   "execution_count": 109,
   "metadata": {},
   "outputs": [
    {
     "data": {
      "text/html": [
       "<div>\n",
       "<style scoped>\n",
       "    .dataframe tbody tr th:only-of-type {\n",
       "        vertical-align: middle;\n",
       "    }\n",
       "\n",
       "    .dataframe tbody tr th {\n",
       "        vertical-align: top;\n",
       "    }\n",
       "\n",
       "    .dataframe thead th {\n",
       "        text-align: right;\n",
       "    }\n",
       "</style>\n",
       "<table border=\"1\" class=\"dataframe\">\n",
       "  <thead>\n",
       "    <tr style=\"text-align: right;\">\n",
       "      <th></th>\n",
       "      <th>flight_id</th>\n",
       "      <th>arrival_airport</th>\n",
       "      <th>model</th>\n",
       "      <th>fuel_consumption</th>\n",
       "      <th>fuel_price</th>\n",
       "      <th>duration_in_mins</th>\n",
       "      <th>seats_in_plane</th>\n",
       "      <th>places_taken</th>\n",
       "      <th>free_seats</th>\n",
       "      <th>amount</th>\n",
       "      <th>income</th>\n",
       "    </tr>\n",
       "  </thead>\n",
       "  <tbody>\n",
       "  </tbody>\n",
       "</table>\n",
       "</div>"
      ],
      "text/plain": [
       "Empty DataFrame\n",
       "Columns: [flight_id, arrival_airport, model, fuel_consumption, fuel_price, duration_in_mins, seats_in_plane, places_taken, free_seats, amount, income]\n",
       "Index: []"
      ]
     },
     "execution_count": 109,
     "metadata": {},
     "output_type": "execute_result"
    }
   ],
   "source": [
    "data['income'] = data.amount - data.fuel_price"
   ]
  },
  {
   "cell_type": "markdown",
   "metadata": {},
   "source": [
    " "
   ]
  },
  {
   "cell_type": "markdown",
   "metadata": {},
   "source": [
    "## Рассмотрим новые данные"
   ]
  },
  {
   "cell_type": "markdown",
   "metadata": {},
   "source": [
    "### Количество пустых мест на рейсе"
   ]
  },
  {
   "cell_type": "code",
   "execution_count": 110,
   "metadata": {},
   "outputs": [
    {
     "data": {
      "text/plain": [
       "0"
      ]
     },
     "execution_count": 110,
     "metadata": {},
     "output_type": "execute_result"
    }
   ],
   "source": [
    "# убедимся что количество пустых мест на рейсе не имеет значений ниже 0\n",
    "len(data[data.places_taken<0])"
   ]
  },
  {
   "cell_type": "code",
   "execution_count": null,
   "metadata": {},
   "outputs": [],
   "source": [
    "# f_education\n",
    "print(data.f_education.value_counts())\n",
    "display(data.f_education.hist(bins=4))\n",
    "print(data.f_education.describe())\n",
    "# Видим в этом столбце выброс в виде значения 40. \n",
    "# предположим что это ошибочное значение, правильное значение должно быть 4 (высшее образование)\n",
    "data.loc[(data['f_education'] == 40), 'f_education'] = 4\n",
    "\n",
    "#рассмотрим отсутсвующие данные\n",
    "display_absent_values_for(data.f_education)\n",
    "\n",
    "#для отсутствующих значений используем тот же прием, что и с образованием матери\n",
    "#т.e. предположим что образование отца соответствует образованию матери\n",
    "data.f_education = np.where(data.f_education.isna(), data['m_education'], data['f_education'])\n",
    "\n",
    "# аналогично с матерями, отцов без образования всего 2 и следовало бы их исключить из списка\n",
    "# поскольку данных мало для объективного анализа, однако так же оставим их, чтобы увидеть результаты\n",
    "# (хоть мы и знаем что вряд ли их можно будет назвать объективными)"
   ]
  },
  {
   "cell_type": "code",
   "execution_count": null,
   "metadata": {},
   "outputs": [],
   "source": [
    "# traveltime\n",
    "print(data.traveltime.value_counts())\n",
    "data.traveltime.hist()\n",
    "display_normalized_values_for(data.traveltime)\n",
    "\n",
    "# видим что часть данных отсутсвует, рассмотрим отстутвующие данные\n",
    "display_absent_values_for(data.traveltime)\n",
    "\n",
    "# заменим отсутсвующие данные в зависимости от типа места жительства\n",
    "# очевидно, что живущие в городе тратят меньше времени на путь в школу, чем живущие в деревне\n",
    "# найдем медианные значения для каждого из типов места жительства, и заменим отсутсвующие значения\n",
    "data.groupby(by=['address'])['traveltime'].median()\n",
    "\n",
    "# видим что для деревни traveltime составляет 2, для города 1\n",
    "# если тип адреса так же неизвестен, то опустим такую строку\n",
    "data = data.dropna(subset=['address', 'traveltime'], how='all')\n",
    "data.loc[(data['address'] == 'U') & (data['traveltime'].isna()), 'traveltime'] = 1\n",
    "data.loc[(data['address'] == 'R') & (data['traveltime'].isna()), 'traveltime'] = 2\n",
    "\n",
    "# видим что 2% (7) учеников тратят очень много времени на путь до школы. посмотрим какие результаты они в итоге покажут"
   ]
  },
  {
   "cell_type": "code",
   "execution_count": null,
   "metadata": {
    "scrolled": true
   },
   "outputs": [],
   "source": [
    "# studytime\n",
    "print(data.studytime.value_counts())\n",
    "print(data.studytime.describe())\n",
    "data.studytime.hist()\n",
    "# видим что подавляющее большинство учеников занимаются дополнительно 2-5 часов (2)\n",
    "# часть данных отсутсвует. рассмотрим отсутсвующие данные\n",
    "\n",
    "display_absent_values_for(data.studytime)\n",
    "\n",
    "# считаю что данные о дополнитльном обучении достаточно важная информация, \n",
    "# которая оказывает существенное влияние на итоговый результат, поэтому замена\n",
    "# отсутсвующих данных может существенно исказать результат,\n",
    "# в связи с этим отбросим записи с отсутсвующими данными,\n",
    "# к тому же, в каждой из данных строк отсутсвует большое количество информации и \n",
    "# по остальным признакам\n",
    "data = data.dropna(subset=['studytime'], how='all')"
   ]
  },
  {
   "cell_type": "code",
   "execution_count": null,
   "metadata": {},
   "outputs": [],
   "source": [
    "# failures\n",
    "print(data.failures.value_counts())\n",
    "data.failures.hist()\n",
    "display_normalized_values_for(data.failures)\n",
    "\n",
    "# видим что 75% учеников не испытвали внешкольных неудач. 5% данных отсутсвует\n",
    "# достаточно сложно интерпретировать данные из этого столбца,\n",
    "# поэтому предлагаю заменить отсутсвующие данные на значение моды (0)\n",
    "data.failures = data.failures.fillna(0)"
   ]
  },
  {
   "cell_type": "code",
   "execution_count": null,
   "metadata": {},
   "outputs": [],
   "source": [
    "# studytime_granular\n",
    "data.studytime_granular.hist()\n",
    "display_normalized_values_for(data.studytime_granular)\n",
    "\n",
    "# если я правильно понимаю, то этот столбец содержит значение часов из столбцa studytime\n",
    "# мы уже обработали столбец studytime, по сути эти данные просто дублируются\n",
    "# (к тому же, почему-то со значением -), поэтому удалим этот столбец\n",
    "\n",
    "data.drop(['studytime_granular'], inplace=True, axis=1)"
   ]
  },
  {
   "cell_type": "code",
   "execution_count": null,
   "metadata": {},
   "outputs": [],
   "source": [
    "# family_relations\n",
    "print(data.family_relations.describe())\n",
    "display_normalized_values_for(data.family_relations)\n",
    "\n",
    "# видим отрицательное значение -1, предположим что значение должно быть положительным и исправим это\n",
    "data.loc[(data['family_relations'] == -1), 'family_relations'] = 1\n",
    "\n",
    "# видим что отсутсвует около 7% данных, что довольно много, рассмотрим их\n",
    "display_absent_values_for(data.family_relations)\n",
    "\n",
    "# предлагаю удалить строки, в которых нет данных о семейных отношениях\n",
    "# и семейной помощи в обучении (family_support), поскольку это достаточно важная информация\n",
    "# которая оказывает существенное влияние\n",
    "data = data.dropna(subset=['family_relations', 'family_support'], how='all')\n",
    "\n",
    "# рассмотрим зависимость семейных отношений и совместного/раздельного проживания родителей\n",
    "sns.boxplot(x ='parents_status', y = 'family_relations', data = data)\n",
    "\n",
    "# очевидно, что в семьях где родители живут раздельно, отношения чуть хуже\n",
    "# однако медианное значение для таких семей = 4.\n",
    "# поэтому предлагаю заменить отсутсвующие значения в family_relations\n",
    "# в семьях где родители живут вместе на 5, а где раздельно - на 4\n",
    "data.loc[(data['parents_status'] == 'A') & (data['family_relations'].isna()), 'family_relations'] = 4\n",
    "data.loc[(data['parents_status'] == 'T') & (data['family_relations'].isna()), 'family_relations'] = 5"
   ]
  },
  {
   "cell_type": "code",
   "execution_count": null,
   "metadata": {},
   "outputs": [],
   "source": [
    "# freetime\n",
    "print(data.freetime.value_counts())\n",
    "data.freetime.hist()\n",
    "display_normalized_values_for(data.freetime)\n",
    "\n",
    "# видим что отсутствует небольшая часть значений (2.5%), рассмотрим их\n",
    "display_absent_values_for(data.freetime)\n",
    "\n",
    "# полагаю что будет логичным заменить отсутсвующие значения в данном случае\n",
    "# на значения из столбца go_out. поскольку очевидно что если ты проводишь много времени с друзьями\n",
    "# то у тебя много свободного времени, и наоборот :)\n",
    "data.freetime = np.where(data.freetime.isna(), data['go_out'], data['freetime'])"
   ]
  },
  {
   "cell_type": "code",
   "execution_count": null,
   "metadata": {},
   "outputs": [],
   "source": [
    "# go_out\n",
    "print(data.go_out.value_counts())\n",
    "data.go_out.hist()\n",
    "display_normalized_values_for(data.go_out)\n",
    "\n",
    "# видим что отсутствует небольшая часть значений (1.8%), рассмотрим их\n",
    "display_absent_values_for(data.go_out)\n",
    "\n",
    "# поступим аналогично предыдущему случаю, и подставим вместо отсутсвующих значений\n",
    "# значения из столбца freetime\n",
    "data.go_out = np.where(data.go_out.isna(), data['freetime'], data['go_out'])"
   ]
  },
  {
   "cell_type": "code",
   "execution_count": null,
   "metadata": {},
   "outputs": [],
   "source": [
    "# health\n",
    "print(data.health.describe())\n",
    "display_normalized_values_for(data.health)\n",
    "data.health.hist()\n",
    "\n",
    "# видим что бОльшая часть студентов чувствуют себя замечательно\n",
    "# и можем лишь посочувствовать 22% у которых не все хорошо со здоровьем\n",
    "# пока нет понимания как можно заменить отсутсвующие значения,\n",
    "# возможно следовало бы удалить строки с отсутвующими данными по здоровью,\n",
    "# поскольку это весьма важный фактор, который нельзя не учитывать,\n",
    "# однако пока предлагаю оставить как есть, возможно в дальнейшем мы как-либо обработаем эти данные"
   ]
  },
  {
   "cell_type": "code",
   "execution_count": null,
   "metadata": {},
   "outputs": [],
   "source": [
    "# absences\n",
    "print(data.absences.describe())\n",
    "display_normalized_values_for(data.absences)\n",
    "data.absences.hist()\n",
    "\n",
    "# очевидны проблемы с этим столбцом, сразу же явно видны выбросы\n",
    "# (ну либо они просто перестали ходить в школу :) )\n",
    "# поэтому избавимся от выбросов\n",
    "data = data.loc[values_inside_iqr_for(data.absences)]\n",
    "\n",
    "display_absent_values_for(data.absences)\n",
    "\n",
    "#отсутвующих значений нет"
   ]
  },
  {
   "cell_type": "code",
   "execution_count": null,
   "metadata": {},
   "outputs": [],
   "source": [
    "# score\n",
    "print(data.score.describe())\n",
    "display_normalized_values_for(data.score)\n",
    "data.score.hist()\n",
    "\n",
    "# явно видно нормальное распределение оценок, при этом имеются\n",
    "# выбросы/отсутсвующие данные в виде оценок 0, избавимся от них\n",
    "data = data.loc[values_inside_iqr_for(data.score)]\n",
    "\n",
    "# в результате этого мы так же избавились от результата 100\n",
    "# (верхняя граница 98.125), но предлагаю не рассматривать вундеркиндов,\n",
    "# а исследовать обычных студентов/школьников :)"
   ]
  },
  {
   "cell_type": "code",
   "execution_count": null,
   "metadata": {},
   "outputs": [],
   "source": [
    "## подведем итоги обработки числовых столбцов\n",
    "data.info()\n",
    "\n",
    "# видим что в результате обработки всех числовых столбцов мы исключили ряд записей\n",
    "# по разным причинам. Осталось 302 записи"
   ]
  },
  {
   "cell_type": "code",
   "execution_count": null,
   "metadata": {},
   "outputs": [],
   "source": [
    "## Обработка строковых столбцов"
   ]
  },
  {
   "cell_type": "code",
   "execution_count": null,
   "metadata": {},
   "outputs": [],
   "source": [
    "# school\n",
    "display(data.school.value_counts())\n",
    "display_normalized_values_for(data.school)\n",
    "\n",
    "# видим, что 88% учеников обучаются в школе GP (что бы это ни значило). отсутсвующих/пустых значений нет\n"
   ]
  },
  {
   "cell_type": "code",
   "execution_count": null,
   "metadata": {},
   "outputs": [],
   "source": [
    "# sex\n",
    "\n",
    "display(data.sex.value_counts())\n",
    "display_normalized_values_for(data.sex)\n",
    "\n",
    "# видим что соотношение мальчиков и девочек примерно равное. отсутсвующих/пустых значений нет"
   ]
  },
  {
   "cell_type": "code",
   "execution_count": null,
   "metadata": {},
   "outputs": [],
   "source": [
    "# address\n",
    "display(data.address.value_counts())\n",
    "display_normalized_values_for(data.address)\n",
    "\n",
    "# видим что соотношение городских учеников к сельским примерно 3 к 1. Есть 3% пропущенных значений. \n",
    "# часть пропусков нами уже была обработана при анализе столбцa traveltime.\n",
    "# рассмотрим оставшиеся пропуски\n",
    "\n",
    "display_absent_values_for(data.address)\n",
    "\n",
    "# для обработки пропусков в данном столбце используем тот же прием, что и при заполнении пропусков\n",
    "# в столбце traveltime (1 - для городского жителя, 2 - для сельского)\n",
    "data.loc[(data['traveltime'] == 1) & (data['address'].isna()), 'address'] = 'U'\n",
    "data.loc[(data['traveltime'] == 2) & (data['address'].isna()), 'address'] = 'R'"
   ]
  },
  {
   "cell_type": "code",
   "execution_count": null,
   "metadata": {},
   "outputs": [],
   "source": [
    "# family size\n",
    "display(data.family_size.value_counts())\n",
    "display_normalized_values_for(data.family_size)\n",
    "\n",
    "# видим что 65% учеников проживают в больших семьях. 5% данных отсутсвуют\n",
    "# рассмотрим оставшиеся пропуски\n",
    "\n",
    "display_absent_values_for(data.family_size)\n",
    "\n",
    "# учитывая что большинство учеников из больших семей, предлагаю заменить отсутсвующие значения \n",
    "# на GT3, если родители живут вместе (parents_status == T), и на LE3, если раздельно\n",
    "# если данные о родителях так же отсутсвуют - удалим такие строки\n",
    "data = data.dropna(subset=['parents_status', 'family_size'], how='all')\n",
    "data.loc[(data['parents_status'] == 'A') & (data['family_size'].isna()), 'family_size'] = 'LE3'\n",
    "data.loc[(data['parents_status'] == 'T') & (data['family_size'].isna()), 'family_size'] = 'GT3'"
   ]
  },
  {
   "cell_type": "code",
   "execution_count": null,
   "metadata": {},
   "outputs": [],
   "source": [
    "# parents_status\n",
    "display(data.parents_status.value_counts())\n",
    "display_normalized_values_for(data.parents_status)\n",
    "data.parents_status.hist()\n",
    "\n",
    "# видим что в 80% случаев родители живут вместе. 9% данных отсутсвует, 9% живут раздельно\n",
    "# рассмотрим оставшиеся пропуски\n",
    "\n",
    "display_absent_values_for(data.parents_status)\n",
    "\n",
    "# можно было бы следовать логике, обратной логике с размером семьи, но поскольку\n",
    "# подавляющее большинство родителей живут вместе, заменим пропуски на значение моды\n",
    "data.parents_status = data.parents_status.fillna(data.parents_status.mode()[0])"
   ]
  },
  {
   "cell_type": "code",
   "execution_count": null,
   "metadata": {},
   "outputs": [],
   "source": [
    "# m_job\n",
    "print(data.m_job.value_counts())\n",
    "display_normalized_values_for(data.m_job)\n",
    "display(data.m_job.hist())\n",
    "\n",
    "# видим что 4% информации отсутсвует, рассмотрим отсутвующие данные\n",
    "display_absent_values_for(data.m_job)\n",
    "\n",
    "# думаю, наиболее правильным вариантом в данном случае будет заменить пропуски в работе матери\n",
    "# на работу отца. не думаю, что эти значения окажут какое-то сильное влияние на конечный результат.\n",
    "# в случае отсутсвия обоих данных - удалим такие строки\n",
    "data = data.dropna(subset=['m_job', 'f_job'], how='all')\n",
    "data.m_job = np.where(data.m_job.isna(), data['f_job'], data['m_job'])"
   ]
  },
  {
   "cell_type": "code",
   "execution_count": null,
   "metadata": {},
   "outputs": [],
   "source": [
    "# f_job\n",
    "display_normalized_values_for(data.f_job)\n",
    "display(data.f_job.hist())\n",
    "\n",
    "# видим что 8% информации отсутсвует, рассмотрим отсутвующие данные\n",
    "display_absent_values_for(data.f_job)\n",
    "\n",
    "# у меня появилась другая идея, привязать работу родителя к его уровню образования.\n",
    "# оставим замену для работы матери как есть, поскольку там пропущенных значений в 2 раза меньше\n",
    "# чем для работы отца, а для работы отца применим подход где\n",
    "# уровень образования 4 - health, 3 - teacher, 2 - services, 1 - at_home\n",
    "\n",
    "values_dictionary = {\n",
    "    4: 'health',\n",
    "    3: 'teacher',\n",
    "    2: 'services',\n",
    "    1: 'at_home'\n",
    "}\n",
    "for key, value in values_dictionary.items():\n",
    "    data.loc[(data['f_education'] == key) & (data['f_job'].isna()), 'f_job'] = value"
   ]
  },
  {
   "cell_type": "code",
   "execution_count": null,
   "metadata": {},
   "outputs": [],
   "source": [
    "# reason\n",
    "display(data.reason.value_counts())\n",
    "display_normalized_values_for(data.reason)\n",
    "\n",
    "# видим что 4% информации отсутсвует, рассмотрим отсутвующие данные\n",
    "display_absent_values_for(data.reason)\n",
    "\n",
    "# сложно делать какие-либо выводы об этом столбце, да и не думаю что он имеет отношение\n",
    "# к оценкам. возможно имеет отношение пункт 'course', то есть образовательная программа,\n",
    "# но это не значит что в других школах она хуже, просто кто-то руководствуется\n",
    "# другими причинами при выборе школы. \n",
    "# позволю себе удалить данный столбец как нерелевантный\n",
    "data.drop(['reason'], inplace=True, axis=1)"
   ]
  },
  {
   "cell_type": "code",
   "execution_count": null,
   "metadata": {},
   "outputs": [],
   "source": [
    "# guardian\n",
    "display(data.guardian.value_counts())\n",
    "display_normalized_values_for(data.guardian)\n",
    "\n",
    "# данный столбец мне не совсем понятен. что значит опекун мать/отец\n",
    "# если семья полная, то очевидно что оба родителя выполняют свои функции, а не кто-то один\n",
    "# однако все же рассмотрим отсутсвующие значения, возможно найдем способ для замены данных\n",
    "display_absent_values_for(data.guardian)\n",
    "\n",
    "# сложно предположить какие-либо варианты для замены. удалим этот столбец\n",
    "data.drop(['guardian'], inplace=True, axis=1)"
   ]
  },
  {
   "cell_type": "code",
   "execution_count": null,
   "metadata": {},
   "outputs": [],
   "source": [
    "# school_support\n",
    "display(data.school_support.value_counts())\n",
    "display_normalized_values_for(data.school_support)\n",
    "\n",
    "#видим что в большинстве случаев дополнительной поддержки нет. при этом небольшая часть данных (2.5%) пропущена\n",
    "# рассмотрим отсутсвующие данные\n",
    "\n",
    "display_absent_values_for(data.school_support)\n",
    "\n",
    "#  возможно, наличие поддержки связано с типом школы. проверим эту гипотезу\n",
    "data.groupby(by=['school_support'])['school'].hist()\n",
    "\n",
    "# видим что поддержка есть только в школе GP, однако в связи с малочисленностью \n",
    "# данных о наличии поддержки мы не можем однозначно сказать что все остальные данные можно \n",
    "# заменить на наличие поддержки. Поскольку в школе MS данных о поддержке нет\n",
    "# то в ней мы заменим отсутвующее значение на 'no'\n",
    "data.loc[(data['school'] == 'MS') & (data['school_support'].isna()), 'school_support'] = 'no'\n",
    "\n",
    "# заменим yes/no на 1/0 для учета этих данных в таблице корреляции\n",
    "replace_yes_no_with_integers_in(data.school_support)"
   ]
  },
  {
   "cell_type": "code",
   "execution_count": null,
   "metadata": {},
   "outputs": [],
   "source": [
    "# family_support\n",
    "display(data.family_support.value_counts())\n",
    "display_normalized_values_for(data.family_support)\n",
    "\n",
    "# видим что в отличие от школьной поддержки, более половины учеников занимаются в семье\n",
    "# 8% данных пропущено, рассмотрим их\n",
    "display_absent_values_for(data.family_support)\n",
    "\n",
    "# на данный момент не представляется возможным как-либо заполнить пропуски\n",
    "\n",
    "# заменим yes/no на 1/0 для учета этих данных в таблице корреляции\n",
    "replace_yes_no_with_integers_in(data.family_support)"
   ]
  },
  {
   "cell_type": "code",
   "execution_count": null,
   "metadata": {},
   "outputs": [],
   "source": [
    "# paid\n",
    "display(data.paid.value_counts())\n",
    "display_normalized_values_for(data.paid)\n",
    "\n",
    "# видим что распределение учеников с платными занятиями и без них приблизительно равное, при этом 11% данных пропущено\n",
    "display_absent_values_for(data.paid)\n",
    "\n",
    "# на данный момент не представляется возможным как-либо заполнить пропуски\n",
    "# заменим yes/no на 1/0 для учета этих данных в таблице корреляции\n",
    "replace_yes_no_with_integers_in(data.paid)"
   ]
  },
  {
   "cell_type": "code",
   "execution_count": null,
   "metadata": {},
   "outputs": [],
   "source": [
    "# activities\n",
    "display(data.activities.value_counts())\n",
    "display_normalized_values_for(data.activities)\n",
    "\n",
    "# видим что распределение учеников с доп занятиями и без них приблизительно равное, при этом 4% данных пропущено\n",
    "display_absent_values_for(data.activities)\n",
    "\n",
    "# на данный момент не представляется возможным как-либо заполнить пропуски\n",
    "# заменим yes/no на 1/0 для учета этих данных в таблице корреляции\n",
    "replace_yes_no_with_integers_in(data.activities)"
   ]
  },
  {
   "cell_type": "code",
   "execution_count": null,
   "metadata": {},
   "outputs": [],
   "source": [
    "# nursery\n",
    "display(data.nursery.value_counts())\n",
    "display_normalized_values_for(data.nursery)\n",
    "\n",
    "# видим что 77% посещали детский сад, 4% данных пропущено.\n",
    "display_absent_values_for(data.nursery)\n",
    "\n",
    "# на данный момент не представляется возможным как-либо заполнить пропуски\n",
    "# заменим yes/no на 1/0 для учета этих данных в таблице корреляции\n",
    "replace_yes_no_with_integers_in(data.nursery)"
   ]
  },
  {
   "cell_type": "code",
   "execution_count": null,
   "metadata": {},
   "outputs": [],
   "source": [
    "# higher\n",
    "display(data.higher.value_counts())\n",
    "display_normalized_values_for(data.higher)\n",
    "\n",
    "# видим что 92% хотят получать высшее образование (что радует). отсутвует 2.5% данных, рассмотрим их\n",
    "display_absent_values_for(data.higher)\n",
    "\n",
    "# думаю, при таком подавляющем большинстве желающих получать высшее образование, можно заменить отсутсвующие\n",
    "# данные на большинство\n",
    "data.higher = data.higher.fillna('yes')\n",
    "\n",
    "# заменим yes/no на 1/0 для учета этих данных в таблице корреляции\n",
    "replace_yes_no_with_integers_in(data.higher)"
   ]
  },
  {
   "cell_type": "code",
   "execution_count": null,
   "metadata": {},
   "outputs": [],
   "source": [
    "# internet\n",
    "display(data.internet.value_counts())\n",
    "display_normalized_values_for(data.internet)\n",
    "\n",
    "# видим что 76.5% имеют доступ в интернет, 14.7% - нет. отсутвует 8% данных, рассмотрим их\n",
    "display_absent_values_for(data.internet)\n",
    "\n",
    "# хотелось бы заполнить все пропуски доступом в интернет, но я не Илон Маск чтобы дарить\n",
    "# людям бесплатный интернет :)\n",
    "\n",
    "# заменим yes/no на 1/0 для учета этих данных в таблице корреляции\n",
    "replace_yes_no_with_integers_in(data.internet)"
   ]
  },
  {
   "cell_type": "code",
   "execution_count": null,
   "metadata": {},
   "outputs": [],
   "source": [
    "# romantic\n",
    "display(data.romantic.value_counts())\n",
    "display_normalized_values_for(data.romantic)\n",
    "\n",
    "# видим что 63% не состоят в отношениях. 8% данных отсутсвует, рассмотрим их\n",
    "\n",
    "# на данный момент не представляется возможным как-либо заполнить пропуски\n",
    "# заменим yes/no на 1/0 для учета этих данных в таблице корреляции\n",
    "replace_yes_no_with_integers_in(data.romantic)"
   ]
  },
  {
   "cell_type": "code",
   "execution_count": null,
   "metadata": {},
   "outputs": [],
   "source": [
    "## данные после обработки всех столбцов \n",
    "data.info()\n",
    "\n",
    "# осталось 298 записей, часть столбцов была удалена"
   ]
  },
  {
   "cell_type": "code",
   "execution_count": null,
   "metadata": {},
   "outputs": [],
   "source": [
    "# рассмотрим таблицу корреляции\n",
    "data.corr()\n",
    "\n",
    "# видим что данные довольно слабо коррелируют с переменной score, однако есть ряд примечательных факторов\n",
    "# мы видим довольно сильную отрицательную корреляцию score и failures, что говорит о том\n",
    "# что ученики с большим количеством неудач показывают более низкие результаты\n",
    "# аналогична отрицательная корреляция с параметром absences, что говорит о том, что \n",
    "# с ростом количества пропусков занятий оценка снижается.\n",
    "# такая же ситуация с переменной go_out,\n",
    "# что так же говорит о том, что ученики которые тратят много времени на прогулки - показывают результаты хуже\n",
    "\n",
    "# очень высокий отрицательный коээффициент корреляции с переменной school_support для меня несколько непонятен\n",
    "# возможно мне не следовало заменять yes/no в данном случае на 1/0 и вносить ее в таблицу корреляции.\n",
    "# при этом, допускаю что я не совсем правильно интерпретирую данную переменную, и она говорит о том\n",
    "# что данный ученик слабо успевает за школьной программой и получает доп поддержку в школе\n",
    "# в таком случае отрицательный коэффициент корреляции вполне объясним\n",
    "\n",
    "# из положительных сильных корреляций явно выделяются уровни образования родителей. 0.17 для матери и 0.11 для отца\n",
    "# что говорит о том, что чем выше образование родителей, тем выше скорее всего будет результат экзамена.\n",
    "# так же видна положительная корреляция с параметром studytime, что говорит о том что с ростом времени\n",
    "# на занятия помимо школы, результат экзамена так же будет выше.\n",
    "\n",
    "# видим что подавляющее большинство данных слабо коррелирует с переменной score. у меня есть предположение\n",
    "# отрбосить все параметры, коэффициент корреляции которых по модулю меньше чем 0.05, однако прежде чем это сделать\n",
    "# проведем анализ номинативных переменных и на основании его сделаем выводы\n",
    "\n",
    "# так же видна высокая корреляция образования матери/отца, однако допускаю что это может быть связано\n",
    "# со способом замены пропусков в обоих случаях, хоть и незначительно"
   ]
  },
  {
   "cell_type": "code",
   "execution_count": null,
   "metadata": {},
   "outputs": [],
   "source": [
    "# проведем анализ номинативных переменных\n",
    "def get_boxplot(column):\n",
    "    fig, ax = plt.subplots(figsize = (14, 4))\n",
    "    sns.boxplot(x=column, y='score', \n",
    "                data=data.loc[data.loc[:, column].isin(data.loc[:, column].value_counts().index[:10])],\n",
    "               ax=ax)\n",
    "    ax.set_title('Boxplot for ' + column)\n",
    "    plt.show()\n",
    "    \n",
    "for col in data.columns:\n",
    "    get_boxplot(col)\n",
    "    "
   ]
  },
  {
   "cell_type": "code",
   "execution_count": null,
   "metadata": {},
   "outputs": [],
   "source": [
    "# номинатвный анализ\n",
    "    \n",
    "# school: видно что результаты в среднем схожи, ученики из школы GP показывают результаты чуть лучше\n",
    "# но допускаю что это связано с тем что данных по этой школе гораздо больше, чем по MS\n",
    "\n",
    "# sex: здесь так же видно что результаты примерно равны, мальчики показывают результаты чуть лучше чем девочки\n",
    "\n",
    "# age: здесь довольно интересная зависимость. видим что в среднем результаты примерно одинаковы. \n",
    "# (хотя есть тенденция на снижение результатов с возрастом, что странно)\n",
    "# высокий результат у 20-летних обусловлен тем, что таких учеников всего 3 \n",
    "# (возможно, мне следовало бы удалить их в таком случае, поскольку их количество мало, но оставив их мы увидели, \n",
    "# что их результаты впечатляют :) )\n",
    "\n",
    "# address: здесь видим что медианное значение примерно равно для городских и сельских учеников,\n",
    "# однако максимальные результаты гораздо выше у городских, для сельских учеников результаты\n",
    "# выше 80 уже считаются выбросами\n",
    "\n",
    "# family_size: результаты практически идентичны (что логично). медианное значение в больших семьях чуть ниже\n",
    "\n",
    "# parents_status: здесь видим больший разброс вверх в семьях где родители живут отдельно.\n",
    "# однако предполагаю что это связано с тем что данных по таким семьям меньше.\n",
    "\n",
    "# m_education: как и следовало из таблицы корреляции - явно видна тенденция на рост оценок с ростом\n",
    "# уровня образования матери. примечателен тот факт, что оставив значения 0 (без образования)\n",
    "# мы смогли увидеть что данные ученики показали весьма неплохие результаты\n",
    "\n",
    "# f_education: здесь ситуация аналогична образованию матери, тендценция на рост оценок с ростом уровня\n",
    "# образования родителя. примечательно так же, что ученики у чьих отцов нет образования, показали так же\n",
    "# весьма неплохие результаты (хоть эти данные и нельзя одназначно назвать объективными)\n",
    "\n",
    "# m_job: здесь так же очевидна корреляция с уровнем образования матери. видим что дети учителей и врачей\n",
    "# показывают результаты выше, чем остальные\n",
    "\n",
    "# f_job: аналогичная ситуация с матерями, что только подтверждает нашу гипотезу\n",
    "\n",
    "# traveltime: видна тендценция на снижение результатов, с ростом времени на путь до школы\n",
    "# возможно она не совсем очевидна (корреляция всего -0.086) однако примечателен факт\n",
    "# значительно более низких результатов у школьников с очень большими временными затратами\n",
    "# (хоть этих данных и мало для объективной оценки)\n",
    "\n",
    "# studytime: здесь так же прослеживается тенденция на рост оценок с ростом времени на учебу, однако не так очевидно\n",
    "# при этом помним про весьма высокий коэффициент корреляции по данному параметру.\n",
    "\n",
    "# failures: график подтверждает данные из таблицы корреляции - с ростом неудач, оценка снижается\n",
    "\n",
    "# school_support: данный феномен для меня необъясним. все описано в таблице корреляции :)\n",
    "\n",
    "# family_support: видим что различий практически нет\n",
    "\n",
    "# paid: удивительно, но график говорит что наличие платных курсов практически никак не влияет на результат\n",
    "# и в среднем результаты такие же как и у тех, кто не посещает курсы (что так же подтверждается низким\n",
    "# коэффициентом корреляции)\n",
    "\n",
    "# activities, nursery: видим что эти данные практически не оказывают влияния на переменную score\n",
    "\n",
    "# higher: весьма примечателен факт максимальные результаты гораздо выше у тех, кто желает получать\n",
    "# высшее образование\n",
    "\n",
    "# internet: видим что максимальные результаты у учеников с доступом в интернет чуть выше, нежели у тех\n",
    "# у кого он отсутсвует. хоть данные и слабо коррелируют, предлагаю добавить их в итоговую модель\n",
    "\n",
    "# romantic: здесь так же очевидно снижение максимальных результатов у тех, кто состоит в отношениях\n",
    "# (что очевидно, какая учеба когда тут любовь? :) )  хотя видим что медианная оценка примерно равна\n",
    "\n",
    "# family_relations: здесь так же результаты подтверждают здравый смысл, что с улучшением отношений в семье\n",
    "# в среднем результаты так же растут\n",
    "\n",
    "# freetime: здесь видим что наличие свободного времени слабо влияет на конечный результат (что потверждается\n",
    "# таблицей корреляции). На графике выделяются ученики с очень маленьким количеством свободного времени\n",
    "# однако не следует забывать что их всего 11 в данных, да и среди них есть весьма неплохие результаты,\n",
    "# которые считаются выбросами из-за их малого количества\n",
    "\n",
    "# go_out: здесь мы видим подтверждение информации из таблицы корреляции - с ростом количества времени\n",
    "# на прогулки, результаты снижаются.\n",
    "\n",
    "# health: я предполагал что данный параметр окажет весьма сильное влияние на конечный результат, \n",
    "# однако видим, что здоровье слабо влияет на конечный результат (что так же подтверждается корреляцией)\n",
    "# это не может не радовать.\n",
    "\n",
    "# absences: график подтверждает таблицу корреляции и видим что с ростом количества пропусков наблюдается тенденция\n",
    "# на снижение итоговой оценки"
   ]
  },
  {
   "cell_type": "code",
   "execution_count": null,
   "metadata": {},
   "outputs": [],
   "source": [
    "# проверим, есть ли статистическая разница в распределении оценок по номинативным признакам, \n",
    "# которые мы для себя выделили\n",
    "\n",
    "# для себя я выделил следующие столбцы, которые оказывают существенное влияние на конечный результат\n",
    "\n",
    "columns = ['sex', 'age', 'address', 'm_education', 'f_education',\n",
    "           'traveltime', 'studytime', 'school_support', 'higher', 'failures',\n",
    "           'internet', 'romantic', 'family_relations', 'go_out', 'absences']\n",
    "\n",
    "def get_stat_diff(column):\n",
    "    cols = data.loc[:, column].value_counts().index[:10]\n",
    "    combinations_all = list(combinations(cols, 2))\n",
    "    for comb in combinations_all:\n",
    "        if ttest_ind(data.loc[data.loc[:, column] == comb[0], 'score'], \n",
    "                        data.loc[data.loc[:, column] == comb[1], 'score']).pvalue \\\n",
    "            <= 0.05/len(combinations_all): # Учли поправку Бонферони\n",
    "            print('Найдены статистически значимые различия для колонки', column)\n",
    "            break\n",
    "            \n",
    "for column in columns:\n",
    "    get_stat_diff(column)\n",
    "    \n",
    "\n",
    "# видим что статистические значимые различия найдены в 9 колонках, \n",
    "# которые мы оставим для дальнейшего построения модели\n",
    "\n",
    "\n",
    "data_model = data.loc[:, ['sex', 'age', 'address', 'm_education', 'studytime', 'school_support',\n",
    "                         'go_out', 'failures', 'absences']]\n",
    "data_model.head()"
   ]
  },
  {
   "cell_type": "code",
   "execution_count": null,
   "metadata": {},
   "outputs": [],
   "source": [
    "## Выводы:\n",
    "\n",
    "# В данных присутствовало большое количество пропущенных значений, была произведена\n",
    "# попытка заменить отсутсвующие данные наиболее релевантными и коррелирующими там, где это возможно\n",
    "\n",
    "# Было большое количество выбросов/пропусков в столбце score, что привело к тому что эти данные\n",
    "# пришлось удалить\n",
    "\n",
    "# Высокая отрицательная корреляция параметров failures, go_out и score говорит о том, что в зоне риска\n",
    "# находятся ученики с большим количеством неудач и проводящие много времени с друзьями/ на улице\n",
    "\n",
    "# Так же ученики с большим количеством пропусков занятий рискуют получить более низкую оценку.\n",
    "\n",
    "# Высокая положительная корреляция параметров m/f_education говорит о положительном влиянии уровня образования\n",
    "# родителей на итоговую оценку.\n",
    "\n",
    "# Так же весьма значительными факторами, влияющими на итоговую оценку является дополнительное образование вне школы\n",
    "# и затраты времени на дополнительное обучение."
   ]
  }
 ],
 "metadata": {
  "kernelspec": {
   "display_name": "Python 3",
   "language": "python",
   "name": "python3"
  },
  "language_info": {
   "codemirror_mode": {
    "name": "ipython",
    "version": 3
   },
   "file_extension": ".py",
   "mimetype": "text/x-python",
   "name": "python",
   "nbconvert_exporter": "python",
   "pygments_lexer": "ipython3",
   "version": "3.7.6"
  }
 },
 "nbformat": 4,
 "nbformat_minor": 4
}
