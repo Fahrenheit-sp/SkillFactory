{
 "cells": [
  {
   "cell_type": "code",
   "execution_count": 188,
   "metadata": {},
   "outputs": [
    {
     "name": "stdout",
     "output_type": "stream",
     "text": [
      "<class 'pandas.core.frame.DataFrame'>\n",
      "RangeIndex: 118 entries, 0 to 117\n",
      "Data columns (total 6 columns):\n",
      " #   Column            Non-Null Count  Dtype  \n",
      "---  ------            --------------  -----  \n",
      " 0   flight_id         118 non-null    int64  \n",
      " 1   arrival_airport   118 non-null    object \n",
      " 2   model             118 non-null    object \n",
      " 3   duration_in_mins  118 non-null    int64  \n",
      " 4   places_taken      118 non-null    int64  \n",
      " 5   amount            118 non-null    float64\n",
      "dtypes: float64(1), int64(3), object(2)\n",
      "memory usage: 5.7+ KB\n"
     ]
    }
   ],
   "source": [
    "import pandas as pd\n",
    "import matplotlib.pyplot as plt\n",
    "import seaborn as sns\n",
    "import numpy as np\n",
    "\n",
    "pd.set_option('display.max_rows', 50) # показывать больше строк\n",
    "pd.set_option('display.max_columns', 50) # показывать больше колонок\n",
    "\n",
    "data = pd.read_csv('flights.csv')\n",
    "\n",
    "# просмотрим базовую информацию о датасете\n",
    "data.info()"
   ]
  },
  {
   "cell_type": "markdown",
   "metadata": {},
   "source": [
    "## Вывод:\n",
    "#### В датасете 2 строковых столбца, 1 столбцов типа float, 3 столбца типа int\n",
    "#### В датасете содержится 118 строк (записей)"
   ]
  },
  {
   "cell_type": "markdown",
   "metadata": {},
   "source": [
    "## Вспомогательные функции"
   ]
  },
  {
   "cell_type": "code",
   "execution_count": 189,
   "metadata": {},
   "outputs": [],
   "source": [
    "\n",
    "def values_inside_iqr_for(series):\n",
    "    median = series.median()\n",
    "    print('Медиана ' + series.name + ' = ' + str(median))\n",
    "    top_quantile = series.quantile(0.75)\n",
    "    bottom_quantile = series.quantile(0.25)\n",
    "    iqr = top_quantile - bottom_quantile\n",
    "    print('IQR ' + series.name + ' = ' + str(iqr))\n",
    "    lower_bound = bottom_quantile - (1.5 * iqr)\n",
    "    upper_bound = top_quantile + (1.5 * iqr)\n",
    "    print('Нижняя граница выброса ' + series.name + ' = ' + str(lower_bound))\n",
    "    print('Верхняя граница выброса ' + series.name + ' = ' + str(upper_bound))\n",
    "    return series.between(lower_bound, upper_bound)\n",
    "    \n",
    "def display_group_data_for(grouped_data):\n",
    "    grouped_data.hist()\n",
    "    print('Mean: ' + str(grouped_data.mean()))\n",
    "    print('Min: ' + str(grouped_data.min()))\n",
    "    print('Max: ' + str(grouped_data.max()))\n",
    "    print('Median: ' + str(grouped_data.median()))"
   ]
  },
  {
   "cell_type": "markdown",
   "metadata": {},
   "source": [
    "## Разберем основные столбцы"
   ]
  },
  {
   "cell_type": "markdown",
   "metadata": {},
   "source": [
    "### Аэропорты прибытия (arrival_airport)"
   ]
  },
  {
   "cell_type": "code",
   "execution_count": 190,
   "metadata": {},
   "outputs": [
    {
     "name": "stdout",
     "output_type": "stream",
     "text": [
      "EGO    59\n",
      "SVO    59\n",
      "Name: arrival_airport, dtype: int64\n",
      "count     118\n",
      "unique      2\n",
      "top       EGO\n",
      "freq       59\n",
      "Name: arrival_airport, dtype: object\n"
     ]
    }
   ],
   "source": [
    "print(data.arrival_airport.value_counts(dropna=False))\n",
    "print(data.arrival_airport.describe())"
   ]
  },
  {
   "cell_type": "markdown",
   "metadata": {},
   "source": [
    "### Вывод:\n",
    "#### Представлены 2 направления: EGO (Белгород) и SVO (Шереметьево). Отсутсвующих значений нет"
   ]
  },
  {
   "cell_type": "markdown",
   "metadata": {},
   "source": [
    " "
   ]
  },
  {
   "cell_type": "markdown",
   "metadata": {},
   "source": [
    "### Модели самолетов (model)"
   ]
  },
  {
   "cell_type": "code",
   "execution_count": 191,
   "metadata": {},
   "outputs": [
    {
     "name": "stdout",
     "output_type": "stream",
     "text": [
      "Sukhoi Superjet-100    59\n",
      "Boeing 737-300         59\n",
      "Name: model, dtype: int64\n",
      "count                     118\n",
      "unique                      2\n",
      "top       Sukhoi Superjet-100\n",
      "freq                       59\n",
      "Name: model, dtype: object\n"
     ]
    }
   ],
   "source": [
    "print(data.model.value_counts(dropna=False))\n",
    "print(data.model.describe())"
   ]
  },
  {
   "cell_type": "markdown",
   "metadata": {},
   "source": [
    "### Вывод:\n",
    "#### Всего представлены две модели самолетов: Sukhoi Superjet-100 и Boeing 737-300. Отсутсвующих значений нет"
   ]
  },
  {
   "cell_type": "markdown",
   "metadata": {},
   "source": [
    " "
   ]
  },
  {
   "cell_type": "markdown",
   "metadata": {},
   "source": [
    "### Длительность каждого рейса (duration_in_mins)"
   ]
  },
  {
   "cell_type": "code",
   "execution_count": 192,
   "metadata": {},
   "outputs": [
    {
     "name": "stdout",
     "output_type": "stream",
     "text": [
      "50     34\n",
      "100    27\n",
      "99     17\n",
      "51     15\n",
      "49     10\n",
      "101     8\n",
      "98      4\n",
      "102     2\n",
      "103     1\n",
      "Name: duration_in_mins, dtype: int64\n",
      "count    118.000000\n",
      "mean      74.957627\n",
      "std       24.992783\n",
      "min       49.000000\n",
      "25%       50.000000\n",
      "50%       74.500000\n",
      "75%      100.000000\n",
      "max      103.000000\n",
      "Name: duration_in_mins, dtype: float64\n"
     ]
    },
    {
     "data": {
      "image/png": "[encoded data removed]",
      "text/plain": [
       "<Figure size 432x288 with 1 Axes>"
      ]
     },
     "metadata": {
      "needs_background": "light"
     },
     "output_type": "display_data"
    }
   ],
   "source": [
    "print(data.duration_in_mins.value_counts())\n",
    "sns.boxplot(x='arrival_airport', y='duration_in_mins', data=data)\n",
    "print(data.duration_in_mins.describe())\n"
   ]
  },
  {
   "cell_type": "markdown",
   "metadata": {},
   "source": [
    "### Вывод:\n",
    "#### Видим что в среднем полет до аэропорта SVO занимает от 98 до 103 минут, до аэропорта EGO от 49-51 минуту. Выбросов или пропущенных значений нет."
   ]
  },
  {
   "cell_type": "markdown",
   "metadata": {},
   "source": [
    " "
   ]
  },
  {
   "cell_type": "markdown",
   "metadata": {},
   "source": [
    "### Количество пассажиров на рейсе (places_taken)"
   ]
  },
  {
   "cell_type": "code",
   "execution_count": 193,
   "metadata": {},
   "outputs": [
    {
     "name": "stdout",
     "output_type": "stream",
     "text": [
      "97     0.152542\n",
      "96     0.084746\n",
      "87     0.042373\n",
      "110    0.033898\n",
      "95     0.033898\n",
      "106    0.033898\n",
      "115    0.033898\n",
      "109    0.033898\n",
      "94     0.025424\n",
      "79     0.025424\n",
      "Name: places_taken, dtype: float64\n",
      "count    118.000000\n",
      "mean     101.652542\n",
      "std       14.295643\n",
      "min       64.000000\n",
      "25%       95.000000\n",
      "50%       97.000000\n",
      "75%      111.750000\n",
      "max      130.000000\n",
      "Name: places_taken, dtype: float64\n"
     ]
    },
    {
     "data": {
      "image/png": "[encoded data removed]",
      "text/plain": [
       "<Figure size 432x288 with 1 Axes>"
      ]
     },
     "metadata": {
      "needs_background": "light"
     },
     "output_type": "display_data"
    }
   ],
   "source": [
    "display_normalized_values_for(data.places_taken)\n",
    "data.places_taken.hist()\n",
    "print(data.places_taken.describe())"
   ]
  },
  {
   "cell_type": "markdown",
   "metadata": {},
   "source": [
    "### Вывод:\n",
    "#### Видим нормальное распределение пассажиров на рейсах. Выбросов нет (учитывая различную пассажировместимость моделей самолетов). Минимальное количество пассажиров на рейсе - 64, максимальное - 130. Отсутсвующих значений нет"
   ]
  },
  {
   "cell_type": "markdown",
   "metadata": {},
   "source": [
    " "
   ]
  },
  {
   "cell_type": "markdown",
   "metadata": {},
   "source": [
    "## Добавим внешние данные"
   ]
  },
  {
   "cell_type": "markdown",
   "metadata": {},
   "source": [
    "### Количество мест в самолетах на рейсе:"
   ]
  },
  {
   "cell_type": "code",
   "execution_count": 194,
   "metadata": {},
   "outputs": [],
   "source": [
    "# данные из Google о модели самолета\n",
    "model_seats_count = {'Sukhoi Superjet-100': 98, \n",
    "                     'Boeing 737-300': 149}\n",
    "\n",
    "if 'seats_in_plane' not in data.columns:\n",
    "    seats_in_plane = data.model.apply(lambda x: model_seats_count[x])\n",
    "    data.insert(4, 'seats_in_plane', seats_in_plane)\n",
    "    \n",
    "    #так же добавим количество пустых мест на рейсе\n",
    "    free_seats = data.seats_in_plane - data.places_taken\n",
    "    data.insert(6, 'free_seats', free_seats)"
   ]
  },
  {
   "cell_type": "markdown",
   "metadata": {},
   "source": [
    "### Количество потребляемого самолетом топлива и его стоимость:"
   ]
  },
  {
   "cell_type": "code",
   "execution_count": 195,
   "metadata": {},
   "outputs": [],
   "source": [
    "# данные из Wikipedia о модели самолета\n",
    "model_fuel_consumption = {'Sukhoi Superjet-100': 1700,\n",
    "                          'Boeing 737-300': 2400}\n",
    "\n",
    "if 'fuel_consumption' not in data.columns:\n",
    "    hour_fuel_consumption = data.model.apply(lambda x: model_fuel_consumption[x])\n",
    "\n",
    "    # рассчитаем количество потребляемого топлива за рейс\n",
    "    flight_fuel_consumption = (data.duration_in_mins / 60) * hour_fuel_consumption\n",
    "    data.insert(3, 'fuel_consumption', flight_fuel_consumption)\n",
    "    \n",
    "    # рассчитаем стоимость топлива на рейс. данные о стоимости взяты с \n",
    "    # https://favt.gov.ru/dejatelnost-ajeroporty-i-ajerodromy-ceny-na-aviagsm/\n",
    "    # Видим что для Анапы стоимость составляет 41 754 рубля за тонну. (без НДС, но я не силен в экономике РФ, поэтому оставим так)\n",
    "    # Умножим стоимость на 1.2, так как самолеты явно заполняют с запасом + погрешности физических свойств топлива\n",
    "    # в зависимости от температуры, а так же разный расход в зависимости от условий полета\n",
    "    fuel_price = (data.fuel_consumption * 41754 / 1000) * 1.2\n",
    "    data.insert(4, 'fuel_price', fuel_price)"
   ]
  },
  {
   "cell_type": "markdown",
   "metadata": {},
   "source": [
    "### Рассчитаем прибыль на основании стоимости топлива (с учетом доп затрат) и стоимости всех купленных билетов на рейс"
   ]
  },
  {
   "cell_type": "code",
   "execution_count": 196,
   "metadata": {},
   "outputs": [],
   "source": [
    "data['income'] = data.amount - data.fuel_price"
   ]
  },
  {
   "cell_type": "markdown",
   "metadata": {},
   "source": [
    " "
   ]
  },
  {
   "cell_type": "markdown",
   "metadata": {},
   "source": [
    "## Рассмотрим новые данные"
   ]
  },
  {
   "cell_type": "markdown",
   "metadata": {},
   "source": [
    "### Количество пустых мест на рейсе"
   ]
  },
  {
   "cell_type": "code",
   "execution_count": 197,
   "metadata": {},
   "outputs": [
    {
     "name": "stdout",
     "output_type": "stream",
     "text": [
      "0\n",
      "Mean: arrival_airport\n",
      "EGO     7.813559\n",
      "SVO    35.881356\n",
      "Name: free_seats, dtype: float64\n",
      "Min: arrival_airport\n",
      "EGO     1\n",
      "SVO    19\n",
      "Name: free_seats, dtype: int64\n",
      "Max: arrival_airport\n",
      "EGO    34\n",
      "SVO    52\n",
      "Name: free_seats, dtype: int64\n",
      "Median: arrival_airport\n",
      "EGO     3\n",
      "SVO    37\n",
      "Name: free_seats, dtype: int64\n"
     ]
    },
    {
     "data": {
      "image/png": "[encoded data removed]",
      "text/plain": [
       "<Figure size 432x288 with 1 Axes>"
      ]
     },
     "metadata": {
      "needs_background": "light"
     },
     "output_type": "display_data"
    }
   ],
   "source": [
    "# убедимся что количество пустых мест на рейсе не имеет значений ниже 0\n",
    "print(len(data[data.free_seats<0]))\n",
    "\n",
    "## Выведем количество пустых мест на каждом из направлений\n",
    "seats_data = data.groupby(by=['arrival_airport'])['free_seats']\n",
    "display_group_data_for(seats_data)"
   ]
  },
  {
   "cell_type": "markdown",
   "metadata": {},
   "source": [
    "### Выводы:\n",
    "##### Видно что рейсы в аэропорт SVO имеют очень большое количество свободных мест (минимум 19 мест свободно, максимум 52). В среднем 35 мест свободны на рейсе. При этом на рейсах в EGO свободных мест гораздо меньше, в среднем 7 мест (медианное значение 3)\n",
    "##### Возможно, имело бы смысл использовать на рейсах в SVO другие типы самолетов с меньшей пассажировместимостью и, следовательно, меньшими затратами на топливо с целью экономии средств. (Если такие самолеты доступны, разумеется)"
   ]
  },
  {
   "cell_type": "markdown",
   "metadata": {},
   "source": [
    " "
   ]
  },
  {
   "cell_type": "markdown",
   "metadata": {},
   "source": [
    "### Рассмотрим матрицу корреляций, чтобы убедиться что длительность полета, количество затрачиваемого топлива и его стоимость прямо коррелируют между собой"
   ]
  },
  {
   "cell_type": "code",
   "execution_count": 198,
   "metadata": {},
   "outputs": [
    {
     "data": {
      "text/html": [
       "<div>\n",
       "<style scoped>\n",
       "    .dataframe tbody tr th:only-of-type {\n",
       "        vertical-align: middle;\n",
       "    }\n",
       "\n",
       "    .dataframe tbody tr th {\n",
       "        vertical-align: top;\n",
       "    }\n",
       "\n",
       "    .dataframe thead th {\n",
       "        text-align: right;\n",
       "    }\n",
       "</style>\n",
       "<table border=\"1\" class=\"dataframe\">\n",
       "  <thead>\n",
       "    <tr style=\"text-align: right;\">\n",
       "      <th></th>\n",
       "      <th>fuel_consumption</th>\n",
       "      <th>duration_in_mins</th>\n",
       "      <th>fuel_price</th>\n",
       "    </tr>\n",
       "  </thead>\n",
       "  <tbody>\n",
       "    <tr>\n",
       "      <th>fuel_consumption</th>\n",
       "      <td>1.000000</td>\n",
       "      <td>0.999946</td>\n",
       "      <td>1.000000</td>\n",
       "    </tr>\n",
       "    <tr>\n",
       "      <th>duration_in_mins</th>\n",
       "      <td>0.999946</td>\n",
       "      <td>1.000000</td>\n",
       "      <td>0.999946</td>\n",
       "    </tr>\n",
       "    <tr>\n",
       "      <th>fuel_price</th>\n",
       "      <td>1.000000</td>\n",
       "      <td>0.999946</td>\n",
       "      <td>1.000000</td>\n",
       "    </tr>\n",
       "  </tbody>\n",
       "</table>\n",
       "</div>"
      ],
      "text/plain": [
       "                  fuel_consumption  duration_in_mins  fuel_price\n",
       "fuel_consumption          1.000000          0.999946    1.000000\n",
       "duration_in_mins          0.999946          1.000000    0.999946\n",
       "fuel_price                1.000000          0.999946    1.000000"
      ]
     },
     "execution_count": 198,
     "metadata": {},
     "output_type": "execute_result"
    }
   ],
   "source": [
    "data[['fuel_consumption', 'duration_in_mins', 'fuel_price']].corr()\n",
    "\n",
    "# Видим прямую зависимость всех трех параметров, следовательно расчеты верны"
   ]
  },
  {
   "cell_type": "markdown",
   "metadata": {},
   "source": [
    " "
   ]
  },
  {
   "cell_type": "markdown",
   "metadata": {},
   "source": [
    "### Проведем анализ прибыли с рейса"
   ]
  },
  {
   "cell_type": "code",
   "execution_count": 199,
   "metadata": {},
   "outputs": [
    {
     "name": "stdout",
     "output_type": "stream",
     "text": [
      "0\n",
      "Mean: arrival_airport\n",
      "EGO    6.393335e+05\n",
      "SVO    1.442497e+06\n",
      "Name: income, dtype: float64\n",
      "Min: arrival_airport\n",
      "EGO     460018.2\n",
      "SVO    1197580.8\n",
      "Name: income, dtype: float64\n",
      "Max: arrival_airport\n",
      "EGO     695737.836\n",
      "SVO    1685580.800\n",
      "Name: income, dtype: float64\n",
      "Median: arrival_airport\n",
      "EGO     675418.200\n",
      "SVO    1430184.992\n",
      "Name: income, dtype: float64\n"
     ]
    },
    {
     "data": {
      "image/png": "[encoded data removed]",
      "text/plain": [
       "<Figure size 432x288 with 1 Axes>"
      ]
     },
     "metadata": {
      "needs_background": "light"
     },
     "output_type": "display_data"
    }
   ],
   "source": [
    "# убедимся что нет убыточных рейсов\n",
    "print(len(data[data.income<0]))\n",
    "\n",
    "## Выведем количество пустых мест на каждом из направлений\n",
    "income_data = data.groupby(by=['arrival_airport'])['income']\n",
    "display_group_data_for(income_data)"
   ]
  },
  {
   "cell_type": "markdown",
   "metadata": {},
   "source": [
    " "
   ]
  },
  {
   "cell_type": "markdown",
   "metadata": {},
   "source": [
    "## Выводы:\n",
    "##### Видим что прибыль с рейсов в SVO приблизительно в 2-3 раза привышает прибыль с рейсов в EGO. Полагаю, это связано с более высокой стоимостью билетов на рейс в Москву, чем в Белгород. При этом вряд ли стоит наращивать количество рейсов в Москву, поскольку уже существующие рейсы не всегда заполнены. \n",
    "##### Максимальная прибыль составила около 1700000р, минимальная 460000 (разумеется, здесь не учтены все сопутствующие расходы, как то зарплата сотрудников, амортизация авиапарка и т д)"
   ]
  },
  {
   "cell_type": "markdown",
   "metadata": {},
   "source": [
    " ### Рассмотрим общую таблицу корреляции всех параметров"
   ]
  },
  {
   "cell_type": "code",
   "execution_count": 200,
   "metadata": {},
   "outputs": [
    {
     "data": {
      "text/html": [
       "<div>\n",
       "<style scoped>\n",
       "    .dataframe tbody tr th:only-of-type {\n",
       "        vertical-align: middle;\n",
       "    }\n",
       "\n",
       "    .dataframe tbody tr th {\n",
       "        vertical-align: top;\n",
       "    }\n",
       "\n",
       "    .dataframe thead th {\n",
       "        text-align: right;\n",
       "    }\n",
       "</style>\n",
       "<table border=\"1\" class=\"dataframe\">\n",
       "  <thead>\n",
       "    <tr style=\"text-align: right;\">\n",
       "      <th></th>\n",
       "      <th>flight_id</th>\n",
       "      <th>fuel_consumption</th>\n",
       "      <th>fuel_price</th>\n",
       "      <th>duration_in_mins</th>\n",
       "      <th>seats_in_plane</th>\n",
       "      <th>places_taken</th>\n",
       "      <th>free_seats</th>\n",
       "      <th>amount</th>\n",
       "      <th>income</th>\n",
       "    </tr>\n",
       "  </thead>\n",
       "  <tbody>\n",
       "    <tr>\n",
       "      <th>flight_id</th>\n",
       "      <td>1.000000</td>\n",
       "      <td>-0.899654</td>\n",
       "      <td>-0.899654</td>\n",
       "      <td>-0.899255</td>\n",
       "      <td>-0.900023</td>\n",
       "      <td>-0.705965</td>\n",
       "      <td>-0.787902</td>\n",
       "      <td>-0.872855</td>\n",
       "      <td>-0.864735</td>\n",
       "    </tr>\n",
       "    <tr>\n",
       "      <th>fuel_consumption</th>\n",
       "      <td>-0.899654</td>\n",
       "      <td>1.000000</td>\n",
       "      <td>1.000000</td>\n",
       "      <td>0.999946</td>\n",
       "      <td>0.999719</td>\n",
       "      <td>0.803285</td>\n",
       "      <td>0.858557</td>\n",
       "      <td>0.974770</td>\n",
       "      <td>0.966433</td>\n",
       "    </tr>\n",
       "    <tr>\n",
       "      <th>fuel_price</th>\n",
       "      <td>-0.899654</td>\n",
       "      <td>1.000000</td>\n",
       "      <td>1.000000</td>\n",
       "      <td>0.999946</td>\n",
       "      <td>0.999719</td>\n",
       "      <td>0.803285</td>\n",
       "      <td>0.858557</td>\n",
       "      <td>0.974770</td>\n",
       "      <td>0.966433</td>\n",
       "    </tr>\n",
       "    <tr>\n",
       "      <th>duration_in_mins</th>\n",
       "      <td>-0.899255</td>\n",
       "      <td>0.999946</td>\n",
       "      <td>0.999946</td>\n",
       "      <td>1.000000</td>\n",
       "      <td>0.999446</td>\n",
       "      <td>0.802897</td>\n",
       "      <td>0.858469</td>\n",
       "      <td>0.974231</td>\n",
       "      <td>0.965821</td>\n",
       "    </tr>\n",
       "    <tr>\n",
       "      <th>seats_in_plane</th>\n",
       "      <td>-0.900023</td>\n",
       "      <td>0.999719</td>\n",
       "      <td>0.999719</td>\n",
       "      <td>0.999446</td>\n",
       "      <td>1.000000</td>\n",
       "      <td>0.805490</td>\n",
       "      <td>0.857077</td>\n",
       "      <td>0.976290</td>\n",
       "      <td>0.968226</td>\n",
       "    </tr>\n",
       "    <tr>\n",
       "      <th>places_taken</th>\n",
       "      <td>-0.705965</td>\n",
       "      <td>0.803285</td>\n",
       "      <td>0.803285</td>\n",
       "      <td>0.802897</td>\n",
       "      <td>0.805490</td>\n",
       "      <td>1.000000</td>\n",
       "      <td>0.385062</td>\n",
       "      <td>0.907523</td>\n",
       "      <td>0.919627</td>\n",
       "    </tr>\n",
       "    <tr>\n",
       "      <th>free_seats</th>\n",
       "      <td>-0.787902</td>\n",
       "      <td>0.858557</td>\n",
       "      <td>0.858557</td>\n",
       "      <td>0.858469</td>\n",
       "      <td>0.857077</td>\n",
       "      <td>0.385062</td>\n",
       "      <td>1.000000</td>\n",
       "      <td>0.731450</td>\n",
       "      <td>0.708370</td>\n",
       "    </tr>\n",
       "    <tr>\n",
       "      <th>amount</th>\n",
       "      <td>-0.872855</td>\n",
       "      <td>0.974770</td>\n",
       "      <td>0.974770</td>\n",
       "      <td>0.974231</td>\n",
       "      <td>0.976290</td>\n",
       "      <td>0.907523</td>\n",
       "      <td>0.731450</td>\n",
       "      <td>1.000000</td>\n",
       "      <td>0.999397</td>\n",
       "    </tr>\n",
       "    <tr>\n",
       "      <th>income</th>\n",
       "      <td>-0.864735</td>\n",
       "      <td>0.966433</td>\n",
       "      <td>0.966433</td>\n",
       "      <td>0.965821</td>\n",
       "      <td>0.968226</td>\n",
       "      <td>0.919627</td>\n",
       "      <td>0.708370</td>\n",
       "      <td>0.999397</td>\n",
       "      <td>1.000000</td>\n",
       "    </tr>\n",
       "  </tbody>\n",
       "</table>\n",
       "</div>"
      ],
      "text/plain": [
       "                  flight_id  fuel_consumption  fuel_price  duration_in_mins  \\\n",
       "flight_id          1.000000         -0.899654   -0.899654         -0.899255   \n",
       "fuel_consumption  -0.899654          1.000000    1.000000          0.999946   \n",
       "fuel_price        -0.899654          1.000000    1.000000          0.999946   \n",
       "duration_in_mins  -0.899255          0.999946    0.999946          1.000000   \n",
       "seats_in_plane    -0.900023          0.999719    0.999719          0.999446   \n",
       "places_taken      -0.705965          0.803285    0.803285          0.802897   \n",
       "free_seats        -0.787902          0.858557    0.858557          0.858469   \n",
       "amount            -0.872855          0.974770    0.974770          0.974231   \n",
       "income            -0.864735          0.966433    0.966433          0.965821   \n",
       "\n",
       "                  seats_in_plane  places_taken  free_seats    amount    income  \n",
       "flight_id              -0.900023     -0.705965   -0.787902 -0.872855 -0.864735  \n",
       "fuel_consumption        0.999719      0.803285    0.858557  0.974770  0.966433  \n",
       "fuel_price              0.999719      0.803285    0.858557  0.974770  0.966433  \n",
       "duration_in_mins        0.999446      0.802897    0.858469  0.974231  0.965821  \n",
       "seats_in_plane          1.000000      0.805490    0.857077  0.976290  0.968226  \n",
       "places_taken            0.805490      1.000000    0.385062  0.907523  0.919627  \n",
       "free_seats              0.857077      0.385062    1.000000  0.731450  0.708370  \n",
       "amount                  0.976290      0.907523    0.731450  1.000000  0.999397  \n",
       "income                  0.968226      0.919627    0.708370  0.999397  1.000000  "
      ]
     },
     "execution_count": 200,
     "metadata": {},
     "output_type": "execute_result"
    }
   ],
   "source": [
    "data.corr()"
   ]
  },
  {
   "cell_type": "markdown",
   "metadata": {},
   "source": [
    "#### видим прямую корреляцию прибыли со всеми параметрами, что очевидно, поскольку выборка достаточно небольшая и все параметры напрямую связаны с прибылью - в Москву летает больше людей и стоимость билетов выше, при этом длительность полета не сильно превышает длительность полета в Белгород."
   ]
  }
 ],
 "metadata": {
  "kernelspec": {
   "display_name": "Python 3",
   "language": "python",
   "name": "python3"
  },
  "language_info": {
   "codemirror_mode": {
    "name": "ipython",
    "version": 3
   },
   "file_extension": ".py",
   "mimetype": "text/x-python",
   "name": "python",
   "nbconvert_exporter": "python",
   "pygments_lexer": "ipython3",
   "version": "3.7.6"
  }
 },
 "nbformat": 4,
 "nbformat_minor": 4
}
